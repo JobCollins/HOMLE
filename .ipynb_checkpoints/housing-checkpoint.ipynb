{
 "cells": [
  {
   "cell_type": "code",
   "execution_count": 1,
   "id": "c60219c3",
   "metadata": {},
   "outputs": [],
   "source": [
    "import pandas as pd\n",
    "import os\n",
    "\n",
    "def load_housing_data(housing_path):\n",
    "    \"\"\"\n",
    "    load data from the given path\n",
    "    input:\n",
    "              path: path to where the data is stored\n",
    "    output:\n",
    "              df: pandas dataframe of the data\n",
    "    \"\"\"\n",
    "    csv_path = os.path.join(housing_path, \"housing.csv\")\n",
    "    df = pd.read_csv(csv_path)\n",
    "    return df"
   ]
  },
  {
   "cell_type": "code",
   "execution_count": 2,
   "id": "b3475332",
   "metadata": {},
   "outputs": [],
   "source": [
    "HOUSING_PATH = os.path.join(\"datasets\", \"housing\")\n",
    "housing = load_housing_data(HOUSING_PATH)"
   ]
  },
  {
   "cell_type": "code",
   "execution_count": null,
   "id": "1ff01ecc",
   "metadata": {},
   "outputs": [
    {
     "name": "stderr",
     "output_type": "stream",
     "text": [
      "Summarize dataset: 100%|███████████| 105/105 [00:09<00:00, 11.14it/s, Completed]\n",
      "Generate report structure: 100%|██████████████████| 1/1 [00:01<00:00,  1.98s/it]\n",
      "Render widgets:   0%|                                     | 0/1 [00:00<?, ?it/s]"
     ]
    }
   ],
   "source": [
    "from pandas_profiling import ProfileReport\n",
    "\n",
    "profile = ProfileReport(housing)\n",
    "profile.to_widgets()"
   ]
  },
  {
   "cell_type": "code",
   "execution_count": null,
   "id": "6fb8b029",
   "metadata": {},
   "outputs": [],
   "source": []
  }
 ],
 "metadata": {
  "kernelspec": {
   "display_name": "Python 3.8.12 64-bit ('mlops': conda)",
   "language": "python",
   "name": "python3812jvsc74a57bd077cf50fd32cd91c1150ce284d35d422b922fb08e446b917b4fef1715560d7ccf"
  },
  "language_info": {
   "codemirror_mode": {
    "name": "ipython",
    "version": 3
   },
   "file_extension": ".py",
   "mimetype": "text/x-python",
   "name": "python",
   "nbconvert_exporter": "python",
   "pygments_lexer": "ipython3",
   "version": "3.8.12"
  }
 },
 "nbformat": 4,
 "nbformat_minor": 5
}
